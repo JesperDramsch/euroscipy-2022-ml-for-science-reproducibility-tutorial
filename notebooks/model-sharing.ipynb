{
 "cells": [
  {
   "cell_type": "markdown",
   "metadata": {},
   "source": [
    "# Model Sharing\n",
    "\n",
    "Some journals will require the sharing of code or models, but even if they don’t we might benefit from it.\n",
    "\n",
    "Anytime we share a model, we give other researchers the opportunity to replicate our studies and iterate upon them. Altruistically, this advances science, which in and of itself is a noble pursuit. However, this also increases the citations of our original research, a core metric for most researchers in academia.\n",
    "\n",
    "In this section, we explore how we can export models and make our training codes reproducible. Saving a model from scikit-learn is easy enough. But what tools can we use to easily make our training code adaptable for others to import and try out that model? Specifically, I want to talk about:\n",
    "\n",
    "- Automatic Linters\n",
    "- Automatic Formatting\n",
    "- Automatic Docstrings and Documentation\n",
    "- Docker and containerization for ultimate reproducibility\n"
   ]
  }
 ],
 "metadata": {
  "interpreter": {
   "hash": "16ce86b6a16af7bc19374156ace0a756caaaaa7f8976a4eda43486eb7a46fee7"
  },
  "kernelspec": {
   "display_name": "Python 3.10.4 ('euroscipy-2022-ml-repro')",
   "language": "python",
   "name": "python3"
  },
  "language_info": {
   "name": "python",
   "version": "3.10.4"
  },
  "orig_nbformat": 4
 },
 "nbformat": 4,
 "nbformat_minor": 2
}
