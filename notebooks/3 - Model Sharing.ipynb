{
 "cells": [
  {
   "cell_type": "markdown",
   "metadata": {},
   "source": [
    "# Model Sharing\n",
    "\n",
    "Some journals will require the sharing of code or models, but even if they don’t we might benefit from it.\n",
    "\n",
    "Anytime we share a model, we give other researchers the opportunity to replicate our studies and iterate upon them. Altruistically, this advances science, which in and of itself is a noble pursuit. However, this also increases the citations of our original research, a core metric for most researchers in academia.\n",
    "\n",
    "In this section, we explore how we can export models and make our training codes reproducible. Saving a model from scikit-learn is easy enough. But what tools can we use to easily make our training code adaptable for others to import and try out that model? Specifically, I want to talk about:\n",
    "\n",
    "- Automatic Linters\n",
    "- Automatic Formatting\n",
    "- Automatic Docstrings and Documentation\n",
    "- Docker and containerization for ultimate reproducibility\n"
   ]
  },
  {
   "cell_type": "markdown",
   "id": "a48b556b",
   "metadata": {
    "lines_to_next_cell": 0
   },
   "source": [
    "## Model Export\n",
    "Scikit learn uses the Python `pickle` module to persist models in storage.\n",
    "More information [here](https://scikit-learn.org/stable/model_persistence.html)"
   ]
  },
  {
   "cell_type": "code",
   "execution_count": null,
   "metadata": {},
   "outputs": [],
   "source": [
    "import pandas as pd\n",
    "penguins = pd.read_csv('../data/penguins_clean.csv')\n",
    "penguins.head()"
   ]
  },
  {
   "cell_type": "code",
   "execution_count": null,
   "id": "6e65b7cc",
   "metadata": {},
   "outputs": [],
   "source": [
    "from sklearn.model_selection import train_test_split\n",
    "num_features = [\"Culmen Length (mm)\", \"Culmen Depth (mm)\", \"Flipper Length (mm)\"]\n",
    "cat_features = [\"Sex\"]\n",
    "features = num_features + cat_features\n",
    "target = [\"Species\"]\n",
    "\n",
    "X_train, X_test, y_train, y_test = train_test_split(penguins[features], penguins[target], stratify=penguins[target[0]], train_size=.7, random_state=42)"
   ]
  },
  {
   "cell_type": "code",
   "execution_count": null,
   "id": "c6123965",
   "metadata": {},
   "outputs": [],
   "source": [
    "from sklearn.svm import SVC\n",
    "from sklearn.compose import ColumnTransformer\n",
    "from sklearn.pipeline import Pipeline\n",
    "from sklearn.preprocessing import StandardScaler, OneHotEncoder\n",
    "\n",
    "num_transformer = StandardScaler()\n",
    "cat_transformer = OneHotEncoder(handle_unknown='ignore')\n",
    "\n",
    "preprocessor = ColumnTransformer(transformers=[\n",
    "    ('num', num_transformer, num_features),\n",
    "    ('cat', cat_transformer, cat_features)\n",
    "])\n",
    "\n",
    "model = Pipeline(steps=[\n",
    "    ('preprocessor', preprocessor),\n",
    "    ('classifier', SVC()),\n",
    "])\n",
    "\n",
    "model.fit(X_train, y_train)\n",
    "model.score(X_test, y_test)"
   ]
  },
  {
   "cell_type": "code",
   "execution_count": null,
   "id": "94873b87",
   "metadata": {},
   "outputs": [],
   "source": [
    "import pickle\n",
    "s = pickle.dumps(model)\n",
    "clf = pickle.loads(s)\n",
    "clf.score(X_test, y_test)"
   ]
  },
  {
   "cell_type": "markdown",
   "id": "1832d1a7",
   "metadata": {},
   "source": [
    "## Sources of Randomness\n",
    "You may have noticed that I used `random_state` in some arguments.\n",
    "\n",
    "This fixes all sources of random initialization in a model or method to this particular random seed.\n",
    "\n",
    "<div class=\"alert alert-block alert-info\">\n",
    "<b>Tip:</b> Always Google the latest way to fix randomness in machine learning code. It differs from library to library and version to version.<br>It's easy to forget one, which defeats the entire purpose.</div>\n",
    "\n",
    "This works in making models reproducible. Try changing the random seed below!"
   ]
  },
  {
   "cell_type": "code",
   "execution_count": null,
   "id": "09a2186b",
   "metadata": {},
   "outputs": [],
   "source": [
    "from sklearn.model_selection import cross_val_score\n",
    "\n",
    "clf = SVC(random_state=42)\n",
    "clf.fit(X_train, y_train)\n",
    "scores = cross_val_score(model, X_train, y_train, cv=5, random_state=42)\n",
    "scores"
   ]
  },
  {
   "cell_type": "markdown",
   "id": "8c8a9b41",
   "metadata": {},
   "source": [
    "## Good code practices\n",
    "### Linting\n",
    "Tools like linters are amazing at cleaning up code. `flake8` and editors like VSCode can find unused variables, trailing white-space and lines that are way too long.\n",
    "\n",
    "They immediately show some typos that you would otherwise have to pain-stakingly search.\n",
    "\n",
    "[Flake8](https://flake8.pycqa.org/en/latest/) tries to be as close to the PEP8 style-guide as possible and find bugs before even running the code.\n",
    "\n",
    "### Formatters\n",
    "There are automatic formatters like `black` that will take your code and change the formatting to comply with formatting rules.\n",
    "\n",
    "Formatters like [black](https://github.com/psf/black) don't check the code itself for bugs, but they're great at presenting a common code style.\n",
    "\n",
    "They're my shortcut to make good-looking code and make collaboration 100 times easier as the formatting is done by an automated tool.\n",
    "\n",
    "### Docstrings\n",
    "Python has documentation built into its core.\n",
    "For example, below is the SVC model, if you put the cursor in the brackets, you can hit `Shift + Tab` in Jupyter to read the documentation that is written in the docstring."
   ]
  },
  {
   "cell_type": "code",
   "execution_count": null,
   "id": "e83bf83e",
   "metadata": {},
   "outputs": [],
   "source": [
    "SVC()"
   ]
  },
  {
   "cell_type": "markdown",
   "id": "d5c90a32",
   "metadata": {},
   "source": [
    "In VSCode for example there are tools that [autogenerate a docstring](https://marketplace.visualstudio.com/items?itemName=njpwerner.autodocstring) based on a function footprint:\n",
    "\n",
    "<div class=\"alert alert-block alert-info\">\n",
    "<b>Tip:</b> Docstrings are an essential part in telling users what a function does and what input and outputs are expected.</div>\n",
    "I see docstrings as the minimum documentation one should provide when sharing code, and the auto-generators make it extremely easy to do so.\n",
    "\n",
    "This docstrin was automatically generated. Just fill in the summary and description and people are happy!\n",
    "```python\n",
    "def hello_world(name: str) -> None:\n",
    "    \"\"\"_summary_\n",
    "\n",
    "    Parameters\n",
    "    ----------\n",
    "    name : str\n",
    "        _description_\n",
    "    \"\"\"\n",
    "    print(f\"Hello {name}\"\")\n",
    "```"
   ]
  },
  {
   "cell_type": "markdown",
   "id": "671e6269",
   "metadata": {},
   "source": [
    "## Dependencies\n",
    "This repository comes with a `requirements.txt` and a `environment.yml` for `pip` and `conda`.\n",
    "\n",
    "A `requirements.txt` can consist of simply the package names. But ideally you want to add the version number, so people can automatically install the exact version you used in your code.\n",
    "This looks like `pandas==1.0`\n",
    "\n",
    "The conda `environment.yml` can be auto-exported from your conda environment:\n",
    "\n",
    "`conda env export --from-history > environment.yml`\n",
    "The `--from-history` makes it cross-platform but eliminates the version numbers."
   ]
  },
  {
   "cell_type": "markdown",
   "id": "0594dd7d",
   "metadata": {},
   "source": [
    "## Docker for ultimate reproducibility\n",
    "Docker is container that can ship an entire operating system with installed packages and data.\n",
    "\n",
    "It makes the environment you used for your computation almost entirely reproducible.\n",
    "\n",
    "(It's also great practice for the business world)\n",
    "\n",
    "A "
   ]
  }
 ],
 "metadata": {
  "interpreter": {
   "hash": "16ce86b6a16af7bc19374156ace0a756caaaaa7f8976a4eda43486eb7a46fee7"
  },
  "jupytext": {
   "formats": "notebooks//ipynb,python_scripts//py:percent"
  },
  "kernelspec": {
   "display_name": "Python 3 (ipykernel)",
   "language": "python",
   "name": "python3"
  },
  "language_info": {
   "codemirror_mode": {
    "name": "ipython",
    "version": 3
   },
   "file_extension": ".py",
   "mimetype": "text/x-python",
   "name": "python",
   "nbconvert_exporter": "python",
   "pygments_lexer": "ipython3",
   "version": "3.10.4"
  }
 },
 "nbformat": 4,
 "nbformat_minor": 2
}
