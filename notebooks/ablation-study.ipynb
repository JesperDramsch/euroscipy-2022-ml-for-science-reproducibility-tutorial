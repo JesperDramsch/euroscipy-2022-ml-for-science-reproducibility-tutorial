{
 "cells": [
  {
   "cell_type": "markdown",
   "metadata": {},
   "source": [
    "# Ablation Studies\n",
    "\n",
    "Finally, the gold standard in building complex machine learning models is proving that each constituent part of the model contributes something to the proposed solution. \n",
    "\n",
    "Ablation studies serve to dissect machine learning models and evaluate their impact.\n",
    "\n",
    "In this section, we’ll finally discuss how to present complex machine learning models in publications and ensure the viability of each part we engineered to solve our particular problem set."
   ]
  },
  {
   "cell_type": "code",
   "execution_count": null,
   "metadata": {},
   "outputs": [],
   "source": []
  }
 ],
 "metadata": {
  "interpreter": {
   "hash": "16ce86b6a16af7bc19374156ace0a756caaaaa7f8976a4eda43486eb7a46fee7"
  },
  "kernelspec": {
   "display_name": "Python 3.10.4 ('euroscipy-2022-ml-repro')",
   "language": "python",
   "name": "python3"
  },
  "language_info": {
   "name": "python",
   "version": "3.10.4"
  },
  "orig_nbformat": 4
 },
 "nbformat": 4,
 "nbformat_minor": 2
}
