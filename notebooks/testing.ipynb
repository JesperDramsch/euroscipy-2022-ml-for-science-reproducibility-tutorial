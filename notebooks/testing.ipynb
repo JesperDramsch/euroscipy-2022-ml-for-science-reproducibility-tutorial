{
 "cells": [
  {
   "cell_type": "markdown",
   "metadata": {},
   "source": [
    "# Testing\n",
    "\n",
    "Machine learning is very hard to test. Due to the nature of the our models, we often have soft failures in the model that are difficult to test against.\n",
    "\n",
    "Writing software tests in science, is already incredibly hard, so in this section we’ll touch on \n",
    "\n",
    "- some fairly simple tests we can implement to ensure consistency of our input data\n",
    "- avoid bad bugs in data loading procedures\n",
    "- some strategies to probe our models\n"
   ]
  },
  {
   "cell_type": "markdown",
   "metadata": {},
   "source": []
  }
 ],
 "metadata": {
  "interpreter": {
   "hash": "16ce86b6a16af7bc19374156ace0a756caaaaa7f8976a4eda43486eb7a46fee7"
  },
  "kernelspec": {
   "display_name": "Python 3.10.4 ('euroscipy-2022-ml-repro')",
   "language": "python",
   "name": "python3"
  },
  "language_info": {
   "name": "python",
   "version": "3.10.4"
  },
  "orig_nbformat": 4
 },
 "nbformat": 4,
 "nbformat_minor": 2
}
