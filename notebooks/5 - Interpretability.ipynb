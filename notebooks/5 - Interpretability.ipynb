{
 "cells": [
  {
   "cell_type": "markdown",
   "metadata": {
    "lines_to_next_cell": 2
   },
   "source": [
    "# Interpretability\n",
    "\n",
    "One way to probe the models we build is to test them against the established knowledge of domain experts. In this final section, we’ll explore how to build intuitions about our machine learning model and avoid pitfalls like spurious correlations. These methods for model interpretability increase our trust into models, but they can also serve as an additional level of reproducibility in our research and a valuable research artefact that can be discussed in a publication.\n",
    "\n",
    "This part of the tutorial will also go into some considerations why the feature importance of tree-based methods can serve as a start but often shouldn’t be used as the sole source of truth regarding feature interpretation of our applied research.\n",
    "\n",
    "This section will introduce tools like `shap`, discuss feature importance, and manual inspection of models."
   ]
  },
  {
   "cell_type": "markdown",
   "id": "bf48fb4a",
   "metadata": {},
   "source": [
    "## Scikit-Learn Inspection\n"
   ]
  },
  {
   "cell_type": "code",
   "execution_count": null,
   "metadata": {},
   "outputs": [],
   "source": []
  },
  {
   "cell_type": "markdown",
   "metadata": {},
   "source": [
    "Tree importance vs Permutation importance"
   ]
  },
  {
   "cell_type": "code",
   "execution_count": null,
   "metadata": {},
   "outputs": [],
   "source": []
  },
  {
   "cell_type": "markdown",
   "id": "d1eb7623",
   "metadata": {},
   "source": [
    "## Shap Inspection\n",
    "\n",
    "\n",
    "Limitations"
   ]
  },
  {
   "cell_type": "code",
   "execution_count": null,
   "id": "630034a2",
   "metadata": {
    "lines_to_next_cell": 2
   },
   "outputs": [],
   "source": []
  },
  {
   "cell_type": "markdown",
   "id": "f8914ed4",
   "metadata": {},
   "source": [
    "## Model Inspection\n",
    "\n",
    "There are several tools that work for figuring out that a model is doing what it's supposed to do. Scikit-learn classifiers mostly work out of the box, which is why we don't necessarily have to debug the models.\n",
    "\n",
    "Sometimes we have to switch off regularization in scikit-learn to achieve the model state we expect.\n",
    "\n",
    "In neural networks we are working with many moving parts. The first step is a practical step: Overfit a small batch of data on the network. This ensures that the model is capable of learning and all the connections are made as expected. This works as a first-order sense check that models are performing.\n",
    "\n",
    "A more in-depth solution for Pytorch is [Pytorch Surgeon](https://github.com/archinetai/surgeon-pytorch), which can be used to extract submodels of the complete architecture for debugging purposes.\n",
    "\n",
    "Some example code from the Pytorch Surgeon Docs (torch and surgeon are not installed to save space):\n"
   ]
  },
  {
   "cell_type": "code",
   "execution_count": null,
   "id": "7663518e",
   "metadata": {},
   "outputs": [],
   "source": [
    "import torch\n",
    "import torch.nn as nn\n",
    "from surgeon_pytorch import Extract, get_nodes\n",
    "\n",
    "class SomeModel(nn.Module):\n",
    "\n",
    "    def __init__(self):\n",
    "        super().__init__()\n",
    "        self.layer1 = nn.Linear(5, 3)\n",
    "        self.layer2 = nn.Linear(3, 2)\n",
    "        self.layer3 = nn.Linear(1, 1)\n",
    "\n",
    "    def forward(self, x):\n",
    "        x1 = torch.relu(self.layer1(x))\n",
    "        x2 = torch.sigmoid(self.layer2(x1))\n",
    "        y = self.layer3(x2).tanh()\n",
    "        return y\n",
    "\n",
    "model = SomeModel()\n",
    "print(get_nodes(model)) # ['x', 'layer1', 'relu', 'layer2', 'sigmoid', 'layer3', 'tanh']"
   ]
  },
  {
   "cell_type": "markdown",
   "id": "f5191e32",
   "metadata": {},
   "source": [
    "This enables us to extract the model at one of the nodes above:"
   ]
  },
  {
   "cell_type": "code",
   "execution_count": null,
   "id": "afe722d1",
   "metadata": {},
   "outputs": [],
   "source": [
    "model_ext = Extract(model, node_out='sigmoid')\n",
    "x = torch.rand(1, 5)\n",
    "sigmoid = model_ext(x)\n",
    "print(sigmoid) # tensor([[0.5570, 0.3652]], grad_fn=<SigmoidBackward0>)"
   ]
  }
 ],
 "metadata": {
  "interpreter": {
   "hash": "16ce86b6a16af7bc19374156ace0a756caaaaa7f8976a4eda43486eb7a46fee7"
  },
  "jupytext": {
   "formats": "notebooks//ipynb,python_scripts//py:percent"
  },
  "kernelspec": {
   "display_name": "Python 3 (ipykernel)",
   "language": "python",
   "name": "python3"
  },
  "language_info": {
   "codemirror_mode": {
    "name": "ipython",
    "version": 3
   },
   "file_extension": ".py",
   "mimetype": "text/x-python",
   "name": "python",
   "nbconvert_exporter": "python",
   "pygments_lexer": "ipython3",
   "version": "3.10.4"
  }
 },
 "nbformat": 4,
 "nbformat_minor": 2
}
